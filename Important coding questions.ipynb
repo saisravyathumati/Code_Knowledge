{
 "cells": [
  {
   "cell_type": "markdown",
   "metadata": {},
   "source": [
    "#                                     Important coding questions"
   ]
  },
  {
   "cell_type": "markdown",
   "metadata": {},
   "source": [
    "Merge two sorted arrays from their end"
   ]
  },
  {
   "cell_type": "markdown",
   "metadata": {},
   "source": [
    "Given two sorted integer arrays, merge them into a single array in ascending order, and return it. In other words, merge two sorted arrays from their end."
   ]
  },
  {
   "cell_type": "markdown",
   "metadata": {},
   "source": [
    "Input:\n",
    " \n",
    "X = [1, 3, 5]\n",
    "Y = [2, 6, 7]\n",
    " \n",
    "Output: [1,2,3,5,6,7]\n",
    " \n",
    " \n",
    "Input:\n",
    " \n",
    "X = [1, 4, 7, 8]\n",
    "Y = [2, 3, 9]\n",
    " \n",
    "Output: [1,2,3,4,7,8,9]"
   ]
  },
  {
   "cell_type": "code",
   "execution_count": 7,
   "metadata": {},
   "outputs": [
    {
     "name": "stdout",
     "output_type": "stream",
     "text": [
      "1 3 5\n",
      "2 6 7\n",
      "[1, 2, 3, 5, 6, 7]\n"
     ]
    }
   ],
   "source": [
    "x=list(map(int,input().split()))\n",
    "y=list(map(int,input().split()))\n",
    "aux=[]\n",
    "xp=0\n",
    "yp=0\n",
    "while(xp<len(x) and yp<len(y)):\n",
    "    if(x[xp]<=y[yp]):\n",
    "        aux.append(x[xp])\n",
    "        xp+=1\n",
    "    else:\n",
    "        aux.append(y[yp])\n",
    "        yp+=1\n",
    "while(xp<len(x)):\n",
    "    aux.append(x[xp])\n",
    "    xp+=1\n",
    "while(yp<len(y)):\n",
    "    aux.append(y[yp])\n",
    "    yp+=1\n",
    "print(aux)"
   ]
  },
  {
   "cell_type": "markdown",
   "metadata": {},
   "source": [
    "Find two numbers with maximum sum formed by array digits"
   ]
  },
  {
   "cell_type": "markdown",
   "metadata": {},
   "source": [
    "Given an integer array between 0 and 9, find two numbers with maximum sum formed using all the array digits. The difference in the number of digits of the two numbers should be ± 1.\n",
    "\n"
   ]
  },
  {
   "cell_type": "markdown",
   "metadata": {},
   "source": [
    "Input:  { 4, 6, 2, 7, 9, 8 }\n",
    "Output: The two numbers with maximum sum are 974 and 862\n",
    " \n",
    " \n",
    "Input:  { 9, 2, 5, 6, 0, 4 }\n",
    "Output: The two numbers with maximum sum are 952 and 640"
   ]
  },
  {
   "cell_type": "code",
   "execution_count": 8,
   "metadata": {},
   "outputs": [
    {
     "name": "stdout",
     "output_type": "stream",
     "text": [
      "4 6 2 7 9 8\n",
      "974 862\n"
     ]
    }
   ],
   "source": [
    "arr=list(map(int,input().split()))\n",
    "arr.sort(reverse=True)\n",
    "odd=''\n",
    "even=''\n",
    "for i in range(len(arr)):\n",
    "    if(i%2==0):\n",
    "        odd+=str(arr[i])\n",
    "    else:\n",
    "        even+=str(arr[i])\n",
    "print(odd,even)\n",
    "    "
   ]
  },
  {
   "cell_type": "markdown",
   "metadata": {},
   "source": [
    "Find the closest pair to a given sum in two sorted arrays"
   ]
  },
  {
   "cell_type": "markdown",
   "metadata": {},
   "source": [
    "Given two sorted arrays, find a pair whose sum is closest to a given sum where the pair consists of elements from each array."
   ]
  },
  {
   "cell_type": "markdown",
   "metadata": {},
   "source": [
    "Input:\n",
    " \n",
    "first[] = { 1, 8, 10, 12 }\n",
    "second[] = { 2, 4, 9, 15 }\n",
    "target = 11\n",
    " \n",
    "Output: The closest pair is [1, 9]\n",
    " \n",
    " \n",
    "Input:\n",
    " \n",
    "first[] = { 10, 12, 15, 18, 20 }\n",
    "second[] = { 1, 4, 6, 8 }\n",
    "target = 22\n",
    " \n",
    "Output: The closest pair is [18, 4]"
   ]
  },
  {
   "cell_type": "code",
   "execution_count": 11,
   "metadata": {},
   "outputs": [
    {
     "name": "stdout",
     "output_type": "stream",
     "text": [
      "1 8 10 12\n",
      "2 4 9 15\n",
      "11\n",
      "1 9\n"
     ]
    }
   ],
   "source": [
    "first=list(map(int,input().split()))\n",
    "second=list(map(int,input().split()))\n",
    "target=int(input())\n",
    "if(len(first)==0 or len(second)==0):\n",
    "    print(\"No\")\n",
    "else:\n",
    "    i=0\n",
    "    j=len(second)-1\n",
    "    x=0\n",
    "    y=len(second)-1\n",
    "    while(i<len(first) and j>=0):\n",
    "        if(first[i]+second[j]-target<first[x]+second[y]-target):\n",
    "            x=i\n",
    "            y=j\n",
    "        if(first[i]+second[j]<target):\n",
    "            i+=1\n",
    "        elif(first[i]+second[j]>target):\n",
    "            j-=1\n",
    "        else:\n",
    "            i+=1\n",
    "            j-=1\n",
    "            \n",
    "    print(first[x],second[y])"
   ]
  },
  {
   "cell_type": "markdown",
   "metadata": {},
   "source": [
    "Find the count of distinct elements in every subarray of size `k`"
   ]
  },
  {
   "cell_type": "markdown",
   "metadata": {},
   "source": [
    "Given an array and an integer k, find the count of distinct elements in every subarray of size k."
   ]
  },
  {
   "cell_type": "markdown",
   "metadata": {},
   "source": [
    "Input:\n",
    " \n",
    "arr[] = { 2, 1, 2, 3, 2, 1, 4, 5 };\n",
    "k = 5;\n",
    " \n",
    "Output:\n",
    " \n",
    "The count of distinct elements in subarray { 2, 1, 2, 3, 2 } is 3\n",
    "The count of distinct elements in subarray { 1, 2, 3, 2, 1 } is 3\n",
    "The count of distinct elements in subarray { 2, 3, 2, 1, 4 } is 4\n",
    "The count of distinct elements in subarray { 3, 2, 1, 4, 5 } is 5"
   ]
  },
  {
   "cell_type": "code",
   "execution_count": 19,
   "metadata": {},
   "outputs": [
    {
     "name": "stdout",
     "output_type": "stream",
     "text": [
      "2 1 2 3 2 1 4 5\n",
      "5\n",
      "[3, 3, 4, 5]\n"
     ]
    }
   ],
   "source": [
    "from collections import deque\n",
    "arr=list(map(int,input().split()))\n",
    "k=int(input())\n",
    "start=0\n",
    "end=0\n",
    "subarr=deque()\n",
    "dis=[]\n",
    "while(end<len(arr)):\n",
    "    if(end-start+1<k):\n",
    "        subarr.append(arr[end])\n",
    "        end+=1\n",
    "    elif(end-start+1==k):\n",
    "        subarr.append(arr[end])\n",
    "        dis.append(len(set(list(subarr))))\n",
    "        subarr.popleft()\n",
    "        start = start + 1\n",
    "        end = end + 1\n",
    "print(dis)\n",
    "        "
   ]
  },
  {
   "cell_type": "markdown",
   "metadata": {},
   "source": [
    "Find the minimum difference between the index of two given elements present in an array"
   ]
  },
  {
   "cell_type": "markdown",
   "metadata": {},
   "source": [
    "Given an integer array nums and two integers x and y present in it, find the minimum absolute difference between indices of x and y in a single traversal of the array."
   ]
  },
  {
   "cell_type": "markdown",
   "metadata": {},
   "source": [
    "Input:\n",
    " \n",
    "arr = { 1, 3, 5, 4, 8, 2, 4, 3, 6, 5 }\n",
    "x = 3, y = 2\n",
    " \n",
    "Output: 2\n",
    " \n",
    "Explanation: Element 3 is present at index 1 and 7, and element 2 is present at index 5. Their minimum absolute difference is min(abs(1-5), abs(7-5)) = 2"
   ]
  },
  {
   "cell_type": "code",
   "execution_count": 25,
   "metadata": {},
   "outputs": [
    {
     "name": "stdout",
     "output_type": "stream",
     "text": [
      "1 3 5 4 8 2 4 3 6 5\n",
      "3\n",
      "2\n",
      "2\n"
     ]
    }
   ],
   "source": [
    "arr=list(map(int,input().split()))\n",
    "x=int(input())\n",
    "y=int(input())\n",
    "n=len(arr)\n",
    "i=n-1\n",
    "j=n-1\n",
    "x_ind=-1\n",
    "y_ind=-1\n",
    "min_diff=999999999\n",
    "for i in range(len(arr)):\n",
    "    if(arr[i]==x):\n",
    "        x_ind=i\n",
    "        if(y_ind!=n):\n",
    "            min_diff=min(min_diff,abs(x_ind-y_ind))\n",
    "    if(arr[j]==y):\n",
    "        y_ind=j\n",
    "        if(x_ind!=n):\n",
    "            min_diff=min(min_diff,abs(x_ind-y_ind))\n",
    "print(min_diff)"
   ]
  },
  {
   "cell_type": "code",
   "execution_count": 26,
   "metadata": {},
   "outputs": [
    {
     "name": "stdout",
     "output_type": "stream",
     "text": [
      "[6, -4]\n",
      "[-3, 2, 3]\n"
     ]
    }
   ],
   "source": [
    "# Partition the list into two sublists with the same sum\n",
    "def partition(A):\n",
    " \n",
    "    # calculate the sum of all list elements\n",
    "    total_sum = sum(A)\n",
    " \n",
    "    # variable to maintain the sum of processed elements\n",
    "    sum_so_far = 0\n",
    " \n",
    "    # do for each element in the list\n",
    "    for i in range(len(A)):\n",
    " \n",
    "        # if the sum of `A[0…i-1]` is equal to `A[i, n-1]`\n",
    "        if sum_so_far == total_sum - sum_so_far:\n",
    "            return i\n",
    " \n",
    "        # update `sum_so_far` by including the value of the current element\n",
    "        sum_so_far += A[i]\n",
    " \n",
    "    return -1\n",
    " \n",
    " \n",
    "if __name__ == '__main__':\n",
    " \n",
    "    A = [6, -4, -3, 2, 3]\n",
    " \n",
    "    # get index `i` that points to the starting of the second sublist\n",
    "    i = partition(A)\n",
    " \n",
    "    if i != -1:\n",
    "        print(A[:i])        # print the first sublist, `A[0, i-1]`\n",
    "        print(A[i:])        # print the second sublist, `A[i, len(A))`\n",
    "    else:\n",
    "        print(\"The list can't be partitioned\")"
   ]
  }
 ],
 "metadata": {
  "kernelspec": {
   "display_name": "Python 3",
   "language": "python",
   "name": "python3"
  },
  "language_info": {
   "codemirror_mode": {
    "name": "ipython",
    "version": 3
   },
   "file_extension": ".py",
   "mimetype": "text/x-python",
   "name": "python",
   "nbconvert_exporter": "python",
   "pygments_lexer": "ipython3",
   "version": "3.8.3"
  }
 },
 "nbformat": 4,
 "nbformat_minor": 4
}
