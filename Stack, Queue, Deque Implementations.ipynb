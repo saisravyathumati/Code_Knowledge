{
 "cells": [
  {
   "cell_type": "markdown",
   "metadata": {},
   "source": [
    "# Stack Implementation"
   ]
  },
  {
   "cell_type": "markdown",
   "metadata": {},
   "source": [
    "Using arrays"
   ]
  },
  {
   "cell_type": "code",
   "execution_count": 2,
   "metadata": {},
   "outputs": [
    {
     "name": "stdout",
     "output_type": "stream",
     "text": [
      "[1]\n",
      "[1, 2]\n",
      "[1]\n",
      "[]\n"
     ]
    }
   ],
   "source": [
    "stack=[]\n",
    "stack.append(1)\n",
    "print(stack)\n",
    "stack.append(2)\n",
    "print(stack)\n",
    "stack.pop()\n",
    "print(stack)\n",
    "stack.pop()\n",
    "print(stack)"
   ]
  },
  {
   "cell_type": "markdown",
   "metadata": {},
   "source": [
    "Using LinkedList"
   ]
  },
  {
   "cell_type": "code",
   "execution_count": 21,
   "metadata": {},
   "outputs": [
    {
     "name": "stdout",
     "output_type": "stream",
     "text": [
      "Stack: 1->\n",
      "Stack: 2->1->\n",
      "Stack: 3->2->1->\n",
      "Stack: 4->3->2->1->\n",
      "Stack: 5->4->3->2->1->\n",
      "Stack: 6->5->4->3->2->1->\n",
      "Stack: 7->6->5->4->3->2->1->\n",
      "Stack: 8->7->6->5->4->3->2->1->\n",
      "Stack: 9->8->7->6->5->4->3->2->1->\n",
      "Stack: 10->9->8->7->6->5->4->3->2->1->\n",
      "Pop: 10\n",
      "Stack: 9->8->7->6->5->4->3->2->1->\n",
      "Pop: 9\n",
      "Stack: 8->7->6->5->4->3->2->1->\n",
      "Pop: 8\n",
      "Stack: 7->6->5->4->3->2->1->\n",
      "Pop: 7\n",
      "Stack: 6->5->4->3->2->1->\n",
      "Pop: 6\n",
      "Stack: 5->4->3->2->1->\n"
     ]
    }
   ],
   "source": [
    "class Node:\n",
    "    def __init__(self,val):\n",
    "        self.val=val\n",
    "        self.next=None\n",
    "class Stack:\n",
    "    def __init__(self):\n",
    "        self.head=Node(\"head\")\n",
    "        self.size=0\n",
    "    def push(self,val):\n",
    "        node=Node(val)\n",
    "        node.next=self.head.next\n",
    "        self.head.next=node\n",
    "        self.size+=1\n",
    "    def pop(self):\n",
    "        if(self.size!=0):\n",
    "            remove = self.head.next\n",
    "            self.head.next = self.head.next.next\n",
    "            self.size -= 1\n",
    "            return remove.val\n",
    "        else:\n",
    "            print(\"Can't pop\")\n",
    "    def printstack(self):\n",
    "        cur=self.head.next\n",
    "        out=\"\"\n",
    "        while(cur!=None):\n",
    "            out+=str(cur.val)+\"->\"\n",
    "            cur=cur.next\n",
    "        return out\n",
    "        \n",
    "stack=Stack()\n",
    "for i in range(1, 11):\n",
    "    stack.push(i)\n",
    "    print(f\"Stack: {stack.printstack()}\")\n",
    "for _ in range(1, 6):\n",
    "    remove = stack.pop()\n",
    "    print(f\"Pop: {remove}\")\n",
    "    print(f\"Stack: {stack.printstack()}\")"
   ]
  },
  {
   "cell_type": "markdown",
   "metadata": {},
   "source": [
    "# Queue Implementation"
   ]
  },
  {
   "cell_type": "markdown",
   "metadata": {},
   "source": [
    "Using Arrays"
   ]
  },
  {
   "cell_type": "code",
   "execution_count": 22,
   "metadata": {},
   "outputs": [
    {
     "name": "stdout",
     "output_type": "stream",
     "text": [
      "[1]\n",
      "[1, 2]\n",
      "[1, 2, 3]\n",
      "[1, 2, 3, 4]\n",
      "[2, 3, 4]\n",
      "[3, 4]\n"
     ]
    }
   ],
   "source": [
    "queue=[]\n",
    "queue.append(1) #Enqueue from the end\n",
    "print(queue)\n",
    "queue.append(2)\n",
    "print(queue)\n",
    "queue.append(3) #Enqueue from the end\n",
    "print(queue)\n",
    "queue.append(4)\n",
    "print(queue)\n",
    "queue.pop(0) #dequeue from begin\n",
    "print(queue)\n",
    "queue.pop(0) #dequeue from begin\n",
    "print(queue)"
   ]
  },
  {
   "cell_type": "markdown",
   "metadata": {},
   "source": [
    "Using deque"
   ]
  },
  {
   "cell_type": "markdown",
   "metadata": {},
   "source": [
    "\n",
    "Queue in Python can be implemented using deque class from the collections module. Deque is preferred over list in the cases where we need quicker append and pop operations from both the ends of container, as deque provides an O(1) time complexity for append and pop operations as compared to list which provides O(n) time complexity. Instead of enqueue and deque, append() and popleft() functions are used."
   ]
  },
  {
   "cell_type": "code",
   "execution_count": 25,
   "metadata": {},
   "outputs": [
    {
     "name": "stdout",
     "output_type": "stream",
     "text": [
      "Initial queue\n",
      "deque(['a', 'b', 'c'])\n",
      "a\n",
      "b\n",
      "c\n",
      "deque([])\n"
     ]
    }
   ],
   "source": [
    "from collections import deque\n",
    " \n",
    "# Initializing a queue\n",
    "q = deque()\n",
    " \n",
    "# Adding elements to a queue\n",
    "q.append('a')\n",
    "q.append('b')\n",
    "q.append('c')\n",
    " \n",
    "print(\"Initial queue\")\n",
    "print(q)\n",
    "print(q.popleft())\n",
    "print(q.popleft())\n",
    "print(q.popleft())\n",
    "print(q)"
   ]
  },
  {
   "cell_type": "markdown",
   "metadata": {},
   "source": [
    "Using Queue"
   ]
  },
  {
   "cell_type": "code",
   "execution_count": 26,
   "metadata": {},
   "outputs": [
    {
     "name": "stdout",
     "output_type": "stream",
     "text": [
      "0\n",
      "\n",
      "Full:  True\n",
      "\n",
      "Elements dequeued from the queue\n",
      "a\n",
      "b\n",
      "c\n",
      "\n",
      "Empty:  True\n",
      "\n",
      "Empty:  False\n",
      "Full:  False\n"
     ]
    }
   ],
   "source": [
    "from queue import Queue\n",
    "q=Queue(maxsize=3)\n",
    "# qsize() give the maxsize\n",
    "# of the Queue\n",
    "print(q.qsize())\n",
    "# Adding of element to queue\n",
    "q.put('a')\n",
    "q.put('b')\n",
    "q.put('c')\n",
    "# Return Boolean for Full\n",
    "# Queue\n",
    "print(\"\\nFull: \", q.full())\n",
    "# Removing element from queue\n",
    "print(\"\\nElements dequeued from the queue\")\n",
    "print(q.get())\n",
    "print(q.get())\n",
    "print(q.get())\n",
    "# Return Boolean for Empty\n",
    "# Queue\n",
    "print(\"\\nEmpty: \", q.empty())\n",
    "q.put(1)\n",
    "print(\"\\nEmpty: \", q.empty())\n",
    "print(\"Full: \", q.full())\n",
    "# This would result into Infinite\n",
    "# Loop as the Queue is empty.\n",
    "# print(q.get())"
   ]
  },
  {
   "cell_type": "markdown",
   "metadata": {},
   "source": [
    "# Deque(Double Ended Queue) Implementation"
   ]
  },
  {
   "cell_type": "code",
   "execution_count": null,
   "metadata": {},
   "outputs": [],
   "source": []
  }
 ],
 "metadata": {
  "kernelspec": {
   "display_name": "Python 3",
   "language": "python",
   "name": "python3"
  },
  "language_info": {
   "codemirror_mode": {
    "name": "ipython",
    "version": 3
   },
   "file_extension": ".py",
   "mimetype": "text/x-python",
   "name": "python",
   "nbconvert_exporter": "python",
   "pygments_lexer": "ipython3",
   "version": "3.8.3"
  }
 },
 "nbformat": 4,
 "nbformat_minor": 4
}
