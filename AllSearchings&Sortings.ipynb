{
 "cells": [
  {
   "cell_type": "code",
   "execution_count": 11,
   "metadata": {},
   "outputs": [],
   "source": [
    "def linearSearch(arr,n,key):\n",
    "    for i in range(n):\n",
    "        if(arr[i]==key):\n",
    "            return i\n",
    "    return -1"
   ]
  },
  {
   "cell_type": "code",
   "execution_count": 12,
   "metadata": {},
   "outputs": [],
   "source": [
    "def binarySearchLoop(arr,n,key):\n",
    "    low=0\n",
    "    high=n-1\n",
    "    while(low<=high):\n",
    "        mid=(low+high)//2\n",
    "        if(arr[mid]==key):\n",
    "            return mid+1\n",
    "        elif(arr[mid]<key):\n",
    "            low=mid+1\n",
    "        else:\n",
    "            high=mid-1\n",
    "    return -1"
   ]
  },
  {
   "cell_type": "code",
   "execution_count": 13,
   "metadata": {},
   "outputs": [],
   "source": [
    "def binarySearchRecursion(a,n,key,low,high):\n",
    "    if(low<=high):\n",
    "        mid=(low+high)//2\n",
    "        if(a[mid]==key):\n",
    "            return mid+1\n",
    "        elif(a[mid]<key):\n",
    "            return binarySearchRecursion(a,n,key,mid+1,high)\n",
    "        else:\n",
    "            return binarySearchRecursion(a,n,key,low,mid-1)\n",
    "    else:\n",
    "        return -1"
   ]
  },
  {
   "cell_type": "code",
   "execution_count": 14,
   "metadata": {},
   "outputs": [
    {
     "data": {
      "text/plain": [
       "'\\nPass1: \\n(2)     1       6       9       10      6       5\\n1       2       6       9       (10)    6       5\\n1       2       6       9       6       (10)    5\\n1       2       6       9       6       5       (10)\\nPass2:\\n1       2       6       (9)     6       5       10\\n1       2       6       6      (9)      5       10\\n1       2       6       6       5       (9)     10\\nPass3:\\n1       2       6       (6)     5       9       10\\n1       2       6       5       (6)     9       10\\nPass4:\\n1       2       (6)     5       6       9       10\\n1       2       5       6       6       9       10\\n'"
      ]
     },
     "execution_count": 14,
     "metadata": {},
     "output_type": "execute_result"
    }
   ],
   "source": [
    "def BubbleSort(arr,n):\n",
    "    for i in range(n):\n",
    "        for j in range(0,n-i-1):\n",
    "            if(arr[j]>arr[j+1]):\n",
    "                arr[j],arr[j+1]=arr[j+1],arr[j]\n",
    "    return arr\n",
    "'''\n",
    "Pass1: \n",
    "(2)     1       6       9       10      6       5\n",
    "1       2       6       9       (10)    6       5\n",
    "1       2       6       9       6       (10)    5\n",
    "1       2       6       9       6       5       (10)\n",
    "Pass2:\n",
    "1       2       6       (9)     6       5       10\n",
    "1       2       6       6      (9)      5       10\n",
    "1       2       6       6       5       (9)     10\n",
    "Pass3:\n",
    "1       2       6       (6)     5       9       10\n",
    "1       2       6       5       (6)     9       10\n",
    "Pass4:\n",
    "1       2       (6)     5       6       9       10\n",
    "1       2       5       6       6       9       10\n",
    "'''"
   ]
  },
  {
   "cell_type": "code",
   "execution_count": 15,
   "metadata": {},
   "outputs": [],
   "source": [
    "def SelectionSort(arr,n):\n",
    "    for i in range(n):\n",
    "        mini=arr[i]\n",
    "        for j in range(i+1,n):\n",
    "            if(mini>arr[j]):\n",
    "                mini,arr[j]=arr[j],mini\n",
    "    return arr"
   ]
  },
  {
   "cell_type": "code",
   "execution_count": 16,
   "metadata": {},
   "outputs": [],
   "source": [
    "def InsertionSort(arr,n):\n",
    "    for i in range(n):\n",
    "        val=arr[i]\n",
    "        j=i-1\n",
    "        while(j>=0 and arr[j]>val):\n",
    "            arr[j+1]=arr[j]\n",
    "            j-=1\n",
    "        arr[j+1]=val\n",
    "    return arr"
   ]
  },
  {
   "cell_type": "code",
   "execution_count": 17,
   "metadata": {},
   "outputs": [],
   "source": [
    "def QuickSort(arr,n,low,high):\n",
    "    if(low<high):\n",
    "        pivot=low\n",
    "        i=low\n",
    "        j=high\n",
    "        while(i<j):\n",
    "            while(arr[i]<=arr[pivot] and i<high):\n",
    "                i+=1\n",
    "            while(arr[j]>arr[pivot]):\n",
    "                j-=1\n",
    "            if(i<j):\n",
    "                arr[i],arr[j]=arr[j],arr[i]\n",
    "            else:\n",
    "                arr[pivot],arr[j]=arr[j],arr[pivot]\n",
    "            QuickSort(arr,n,low,j-1)\n",
    "            QuickSort(arr,n,j+1,high)\n",
    "    return arr"
   ]
  },
  {
   "cell_type": "code",
   "execution_count": 18,
   "metadata": {},
   "outputs": [],
   "source": [
    "def MergeSort(arr,n):\n",
    "    l=[]\n",
    "    if(n>1):\n",
    "        mid=n//2\n",
    "        left=arr[:mid]\n",
    "        right=arr[mid:]\n",
    "        MergeSort(left,len(left))\n",
    "        MergeSort(right,len(right))\n",
    "        i=j=0\n",
    "        while(i<len(left) and j<len(right)):\n",
    "            if(left[i]<right[j]):\n",
    "                l.append(left[i])\n",
    "                i+=1\n",
    "            else:\n",
    "                l.append(right[j])\n",
    "                j+=1\n",
    "        while(i<len(left)):\n",
    "            l.append(left[i])\n",
    "            i+=1\n",
    "        while(j<len(right)):\n",
    "            l.append(right[j])\n",
    "            j+=1\n",
    "    return l"
   ]
  },
  {
   "cell_type": "code",
   "execution_count": 19,
   "metadata": {},
   "outputs": [
    {
     "name": "stdout",
     "output_type": "stream",
     "text": [
      "2 9 5 3 14 80 17\n",
      "5\n",
      "2\n",
      "3\n",
      "3\n",
      "[2, 3, 5, 9, 14, 17, 80]\n",
      "[2, 3, 5, 9, 14, 17, 80]\n",
      "[2, 3, 5, 9, 14, 17, 80]\n",
      "[2, 3, 5, 9, 14, 17, 80]\n",
      "[2, 3, 5, 9, 14, 17, 80]\n"
     ]
    }
   ],
   "source": [
    "arr=list(map(int,input().split()))\n",
    "n=len(arr)\n",
    "key=int(input())\n",
    "arr1=arr\n",
    "print(linearSearch(arr,n,key))\n",
    "arr.sort()\n",
    "print(binarySearchLoop(arr,n,key))\n",
    "print(binarySearchRecursion(arr,n,key,0,n-1))\n",
    "print(SelectionSort(arr1,n))\n",
    "print(BubbleSort(arr1,n))\n",
    "print(InsertionSort(arr1,n))\n",
    "print(MergeSort(arr1,n))\n",
    "print(QuickSort(arr1,n,0,n-1))"
   ]
  },
  {
   "cell_type": "code",
   "execution_count": null,
   "metadata": {},
   "outputs": [],
   "source": []
  }
 ],
 "metadata": {
  "kernelspec": {
   "display_name": "Python 3",
   "language": "python",
   "name": "python3"
  },
  "language_info": {
   "codemirror_mode": {
    "name": "ipython",
    "version": 3
   },
   "file_extension": ".py",
   "mimetype": "text/x-python",
   "name": "python",
   "nbconvert_exporter": "python",
   "pygments_lexer": "ipython3",
   "version": "3.8.3"
  }
 },
 "nbformat": 4,
 "nbformat_minor": 4
}
