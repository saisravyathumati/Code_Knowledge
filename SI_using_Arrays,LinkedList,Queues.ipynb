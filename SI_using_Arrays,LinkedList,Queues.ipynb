{
 "cells": [
  {
   "cell_type": "markdown",
   "metadata": {},
   "source": [
    "stack using arrays"
   ]
  },
  {
   "cell_type": "code",
   "execution_count": 1,
   "metadata": {},
   "outputs": [
    {
     "name": "stdout",
     "output_type": "stream",
     "text": [
      "[1]\n",
      "[1, 2]\n",
      "[1, 2]\n",
      "[1]\n",
      "[1, 9]\n"
     ]
    }
   ],
   "source": [
    "stack=[]\n",
    "stack.append(1)\n",
    "print(stack)\n",
    "stack.append(2)\n",
    "print(stack)\n",
    "stack.pop\n",
    "print(stack)\n",
    "stack.pop()\n",
    "print(stack)\n",
    "stack.append(9)\n",
    "print(stack)"
   ]
  },
  {
   "cell_type": "markdown",
   "metadata": {},
   "source": [
    "stack using linkedlist"
   ]
  },
  {
   "cell_type": "code",
   "execution_count": 2,
   "metadata": {
    "scrolled": false
   },
   "outputs": [
    {
     "name": "stdout",
     "output_type": "stream",
     "text": [
      "1->\n",
      "size of stack is 1\n",
      "2->1->\n",
      "size of stack is 2\n",
      "3->2->1->\n",
      "size of stack is 3\n",
      "4->3->2->1->\n",
      "size of stack is 4\n",
      "5->4->3->2->1->\n",
      "size of stack is 5\n",
      "6->5->4->3->2->1->\n",
      "size of stack is 6\n",
      "7->6->5->4->3->2->1->\n",
      "size of stack is 7\n",
      "8->7->6->5->4->3->2->1->\n",
      "size of stack is 8\n",
      "9->8->7->6->5->4->3->2->1->\n",
      "size of stack is 9\n",
      "10->9->8->7->6->5->4->3->2->1->\n",
      "size of stack is 10\n",
      "popped element from stack is: 10\n",
      "9->8->7->6->5->4->3->2->1->\n",
      "size of stack is 9\n",
      "popped element from stack is: 9\n",
      "8->7->6->5->4->3->2->1->\n",
      "size of stack is 8\n",
      "popped element from stack is: 8\n",
      "7->6->5->4->3->2->1->\n",
      "size of stack is 7\n"
     ]
    }
   ],
   "source": [
    "class Node:\n",
    "    def __init__(self,val):\n",
    "        self.val=val\n",
    "        self.next=None\n",
    "class Stack:\n",
    "    def __init__(self):\n",
    "        self.head=Node(\"head\")\n",
    "        self.stacksize=0\n",
    "    def push(self,val):\n",
    "        node=Node(val)\n",
    "        node.next=self.head.next\n",
    "        self.head.next=node\n",
    "        self.stacksize+=1\n",
    "    def pop(self):\n",
    "        if(self.stacksize!=0):\n",
    "            k=self.head.next.val\n",
    "            self.head.next=self.head.next.next\n",
    "            self.stacksize-=1\n",
    "            return k\n",
    "        else:\n",
    "            return \"can't pop\"\n",
    "    def top(self):\n",
    "        return self.head.next.val\n",
    "    def sizeofstack(self):\n",
    "        return self.stacksize\n",
    "    def printstack(self):\n",
    "        cur=self.head.next\n",
    "        out=\"\"\n",
    "        while(cur!=None):\n",
    "            out+=str(cur.val)+\"->\"\n",
    "            cur=cur.next\n",
    "        return out\n",
    "stack=Stack()\n",
    "for i in range(1,11):\n",
    "    stack.push(i)\n",
    "    print(stack.printstack())\n",
    "    print(\"size of stack is\",stack.stacksize)\n",
    "for i in range(3):\n",
    "    k=stack.pop()\n",
    "    print(\"popped element from stack is:\",k)\n",
    "    print(stack.printstack())\n",
    "    print(\"size of stack is\",stack.stacksize)"
   ]
  },
  {
   "cell_type": "markdown",
   "metadata": {},
   "source": [
    "stack using two queues"
   ]
  },
  {
   "cell_type": "code",
   "execution_count": 3,
   "metadata": {},
   "outputs": [
    {
     "name": "stdout",
     "output_type": "stream",
     "text": [
      "Current stack size 1\n",
      "top of stack now 10\n",
      "Current stack size 2\n",
      "top of stack now 11\n",
      "Current stack size 3\n",
      "top of stack now 12\n",
      "Current stack size 4\n",
      "top of stack now 13\n",
      "Current stack size 5\n",
      "top of stack now 14\n",
      "Current stack size 6\n",
      "top of stack now 15\n",
      "Current stack size 7\n",
      "top of stack now 16\n",
      "Current stack size 8\n",
      "top of stack now 17\n",
      "Current stack size 9\n",
      "top of stack now 18\n",
      "Current stack size 10\n",
      "top of stack now 19\n",
      "Current stack size 11\n",
      "top of stack now 20\n",
      "popped element from stack 20\n",
      "Current stack size 10\n",
      "top of stack now 19\n",
      "popped element from stack 19\n",
      "Current stack size 9\n",
      "top of stack now 18\n",
      "popped element from stack 18\n",
      "Current stack size 8\n",
      "top of stack now 17\n"
     ]
    }
   ],
   "source": [
    "from queue import Queue\n",
    "class Stack:\n",
    "    def __init__(self):\n",
    "        self.q1=Queue()\n",
    "        self.q2=Queue()\n",
    "        self.size=0\n",
    "    def push(self,val):\n",
    "        self.size+=1\n",
    "        self.q2.put(val)\n",
    "        while(not(self.q1.empty())):\n",
    "            self.q2.put(self.q1.get())\n",
    "        self.q=self.q1\n",
    "        self.q1=self.q2\n",
    "        self.q2=self.q\n",
    "        \n",
    "    def pop(self):\n",
    "        self.size-=1\n",
    "        return self.q1.get()\n",
    "    def top(self):\n",
    "        return self.q1.queue[0]\n",
    "stack=Stack()\n",
    "for i in range(10,21):\n",
    "    stack.push(i)\n",
    "    print(\"Current stack size\",stack.size)\n",
    "    print(\"top of stack now\",stack.top())\n",
    "for i in range(3):\n",
    "    print(\"popped element from stack\",stack.pop())\n",
    "    print(\"Current stack size\",stack.size)\n",
    "    print(\"top of stack now\",stack.top())"
   ]
  }
 ],
 "metadata": {
  "kernelspec": {
   "display_name": "Python 3",
   "language": "python",
   "name": "python3"
  },
  "language_info": {
   "codemirror_mode": {
    "name": "ipython",
    "version": 3
   },
   "file_extension": ".py",
   "mimetype": "text/x-python",
   "name": "python",
   "nbconvert_exporter": "python",
   "pygments_lexer": "ipython3",
   "version": "3.8.3"
  }
 },
 "nbformat": 4,
 "nbformat_minor": 4
}
