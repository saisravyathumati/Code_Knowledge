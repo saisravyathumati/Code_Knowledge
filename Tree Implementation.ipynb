{
 "cells": [
  {
   "cell_type": "markdown",
   "metadata": {},
   "source": [
    "# Binary Search Tree"
   ]
  },
  {
   "cell_type": "code",
   "execution_count": 1,
   "metadata": {},
   "outputs": [],
   "source": [
    "class Node:\n",
    "    def __init__(self,val):\n",
    "        self.left=None\n",
    "        self.right=None\n",
    "        self.val=val"
   ]
  },
  {
   "cell_type": "code",
   "execution_count": 2,
   "metadata": {},
   "outputs": [],
   "source": [
    "def insert(root,key):\n",
    "    if(root==None):\n",
    "        return Node(key)\n",
    "    elif(root.val>key):\n",
    "        root.left=insert(root.left,key)\n",
    "    elif(root.val<key):\n",
    "        root.right=insert(root.right,key)\n",
    "    return root"
   ]
  },
  {
   "cell_type": "code",
   "execution_count": 3,
   "metadata": {},
   "outputs": [],
   "source": [
    "def inorder(root):\n",
    "    if(root==None):\n",
    "        return \n",
    "    inorder(root.left)\n",
    "    print(root.val,end=' ')\n",
    "    inorder(root.right)"
   ]
  },
  {
   "cell_type": "code",
   "execution_count": 4,
   "metadata": {},
   "outputs": [],
   "source": [
    "def preorder(root):\n",
    "    if(root==None):\n",
    "        return \n",
    "    print(root.val,end=' ')\n",
    "    preorder(root.left)\n",
    "    preorder(root.right)"
   ]
  },
  {
   "cell_type": "code",
   "execution_count": 5,
   "metadata": {},
   "outputs": [],
   "source": [
    "def postorder(root):\n",
    "    if(root==None):\n",
    "        return \n",
    "    postorder(root.left)\n",
    "    postorder(root.right)\n",
    "    print(root.val,end=' ')"
   ]
  },
  {
   "cell_type": "code",
   "execution_count": 6,
   "metadata": {},
   "outputs": [],
   "source": [
    "def height(root):\n",
    "    if(root==None):\n",
    "        return -1\n",
    "    return max(height(root.left)+1,height(root.right)+1)"
   ]
  },
  {
   "cell_type": "code",
   "execution_count": 7,
   "metadata": {},
   "outputs": [],
   "source": [
    "def levelorderTraversal(root):\n",
    "    h = height(root)\n",
    "    for i in range(1, h+1):\n",
    "        printCurrentLevel(root, i)\n",
    "        print()"
   ]
  },
  {
   "cell_type": "code",
   "execution_count": 8,
   "metadata": {},
   "outputs": [],
   "source": [
    "def printCurrentLevel(root , level):\n",
    "    if root is None:\n",
    "        return\n",
    "    if level == 1:\n",
    "        print(root.val,end=\" \")\n",
    "    elif level > 1 :\n",
    "        printCurrentLevel(root.left , level-1)\n",
    "        printCurrentLevel(root.right , level-1)"
   ]
  },
  {
   "cell_type": "code",
   "execution_count": 9,
   "metadata": {},
   "outputs": [
    {
     "name": "stdout",
     "output_type": "stream",
     "text": [
      "Inorder Traversal\n",
      "0 1 2 3 4 5 6 7 8 9 10 \n",
      "Preorder Traversal\n",
      "0 9 8 2 1 3 4 5 6 7 10 \n",
      "Postorder Traversal\n",
      "1 7 6 5 4 3 2 8 10 9 0 \n",
      "Height of tree\n",
      "8\n",
      "\n",
      "Level Order Traversal\n",
      "0 \n",
      "9 \n",
      "8 10 \n",
      "2 \n",
      "1 3 \n",
      "4 \n",
      "5 \n",
      "6 \n",
      "None\n"
     ]
    }
   ],
   "source": [
    "root=Node(0)\n",
    "a=[9,8,2,3,4,1,5,6,7,10]\n",
    "for i in range(len(a)):\n",
    "    root=insert(root,a[i])\n",
    "print(\"Inorder Traversal\")\n",
    "inorder(root)\n",
    "print()\n",
    "print(\"Preorder Traversal\")\n",
    "preorder(root)\n",
    "print()\n",
    "print(\"Postorder Traversal\")\n",
    "postorder(root)\n",
    "print()\n",
    "print(\"Height of tree\")\n",
    "print(height(root))\n",
    "print()\n",
    "print(\"Level Order Traversal\")\n",
    "print(levelorderTraversal(root))"
   ]
  }
 ],
 "metadata": {
  "kernelspec": {
   "display_name": "Python 3",
   "language": "python",
   "name": "python3"
  },
  "language_info": {
   "codemirror_mode": {
    "name": "ipython",
    "version": 3
   },
   "file_extension": ".py",
   "mimetype": "text/x-python",
   "name": "python",
   "nbconvert_exporter": "python",
   "pygments_lexer": "ipython3",
   "version": "3.8.3"
  }
 },
 "nbformat": 4,
 "nbformat_minor": 4
}
